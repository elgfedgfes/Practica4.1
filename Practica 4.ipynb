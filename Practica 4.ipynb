{
 "cells": [
  {
   "cell_type": "markdown",
   "metadata": {},
   "source": [
    "# Práctica 4  Por Sánchez Palma Luis Fernando\n",
    "## Estadísticas de lectura."
   ]
  },
  {
   "cell_type": "markdown",
   "metadata": {},
   "source": [
    "## Restauración de la base de datos \n",
    "\n",
    "Iniciamos la practica con la creacion de una nueva base de datos, seguido de la restauración de la misma.\n",
    "\n",
    <img src="1.png", width= "600">
    "<img src=\"1.png\" width= \"600\">\n",
    "<img src=\"2.png\" width= \"600\">\n",
    "<img src=\"3.png\" width= \"600\">"
   ]
  },
  {
   "cell_type": "markdown",
   "metadata": {},
   "source": [
    "## Configuración de ***timing***\n",
    "\n",
    "Usamos el comando ***\\timing*** para activarlo y ver el tiempo de ejecución de las instrucciones. Comenzamos con consultas sencillas a la tabla **actor**. Después analizamos la tabla actor.\n",
    "\n",
    "<img src=\"4.png\" width= \"600\">\n",
    "Hicimos una consulta usando indixes para la tabla actor\n",
    "<img src=\"5.png\" width= \"600\">\n",
    "Hicimos una consulta para pg_stat_activity\n",
    "<img src=\"6.png\" width= \"600\">\n",
    "Lugo usamos **EXPLAIN** para ver el plan de la tabla actor\n",
    "<img src=\"7.png\" width= \"600\">\n",
    "Con **EXPLAIN ANALYZE** analizamos los tiempos de ejecución y plan de la tabla actor\n",
    "<img src=\"8.png\" width= \"600\">\n"
   ]
  },
  {
   "cell_type": "code",
   "execution_count": null,
   "metadata": {},
   "outputs": [],
   "source": []
  }
 ],
 "metadata": {
  "kernelspec": {
   "display_name": "Python 3",
   "language": "python",
   "name": "python3"
  },
  "language_info": {
   "codemirror_mode": {
    "name": "ipython",
    "version": 3
   },
   "file_extension": ".py",
   "mimetype": "text/x-python",
   "name": "python",
   "nbconvert_exporter": "python",
   "pygments_lexer": "ipython3",
   "version": "3.7.3"
  }
 },
 "nbformat": 4,
 "nbformat_minor": 2
}
